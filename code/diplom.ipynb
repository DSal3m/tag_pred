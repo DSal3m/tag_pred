{
 "cells": [
  {
   "cell_type": "code",
   "execution_count": 1,
   "id": "89f0d873-5fa1-485c-ab61-07acb939e0d5",
   "metadata": {},
   "outputs": [
    {
     "name": "stderr",
     "output_type": "stream",
     "text": [
      "C:\\Users\\1\\anaconda3\\envs\\py_torch\\Lib\\site-packages\\tqdm\\auto.py:21: TqdmWarning: IProgress not found. Please update jupyter and ipywidgets. See https://ipywidgets.readthedocs.io/en/stable/user_install.html\n",
      "  from .autonotebook import tqdm as notebook_tqdm\n"
     ]
    }
   ],
   "source": [
    "import pandas as pd\n",
    "import random\n",
    "import numpy as np\n",
    "from transformers import AutoConfig, AutoModel, AutoTokenizer, RobertaTokenizer, BertTokenizer\n",
    "import torch\n",
    "import torch.nn as nn\n",
    "import torch.nn.functional as F\n",
    "from sklearn.metrics import f1_score, roc_auc_score, accuracy_score, precision_score, recall_score\n",
    "from sklearn.model_selection import train_test_split\n",
    "from sklearn.preprocessing import MultiLabelBinarizer, LabelEncoder\n",
    "from torch.utils.data import TensorDataset, DataLoader\n",
    "from tqdm import tqdm\n",
    "from datetime import datetime\n",
    "from collections import Counter, defaultdict\n",
    "import os\n",
    "import shutil\n",
    "from itertools import chain\n",
    "import ast"
   ]
  },
  {
   "cell_type": "code",
   "execution_count": 2,
   "id": "24840197-b306-491f-8e4b-f56ca077c843",
   "metadata": {},
   "outputs": [],
   "source": [
    "csv_file_path = \"C:/Users/1/Bondarenko/data/combined_solutions.csv\"\n",
    "data = pd.read_csv(csv_file_path)"
   ]
  },
  {
   "cell_type": "code",
   "execution_count": 3,
   "id": "dc77a57d-cbee-4763-b136-e6a24d3ca3a0",
   "metadata": {},
   "outputs": [],
   "source": [
    "tag_counts = data['Tags'].value_counts()\n",
    "threshold = 5\n",
    "frequent_tags = tag_counts[tag_counts >= threshold].index\n",
    "data = data[data['Tags'].isin(frequent_tags)]"
   ]
  },
  {
   "cell_type": "code",
   "execution_count": 4,
   "id": "95ce6c2e-d6e8-4cfe-9ded-b96e8e0b41e2",
   "metadata": {},
   "outputs": [
    {
     "data": {
      "text/plain": [
       "<bound method DataFrame.info of                                                      Code  \\\n",
       "0       using namespace __gnu_pbds;void __print(int x)...   \n",
       "1       int main()\\n{\\nIOS\\nint n;\\ncin>>n;\\nstring a,...   \n",
       "2       const ll mod = <NUM>;\\nint main(){\\nFastIO;\\nP...   \n",
       "3       const int M = <NUM>+<NUM>, N =<NUM>+<NUM>;int ...   \n",
       "4       typedef long long ll;\\ntypedef long double lld...   \n",
       "...                                                   ...   \n",
       "250514  public final class cutting{\\npublic static voi...   \n",
       "250515  public class Main {\\nstatic Scanner sc;\\npubli...   \n",
       "250516  public class Solution{\\npublic static void mai...   \n",
       "250517  public class Main {\\npublic static void main(S...   \n",
       "250518  public class Cutting_493_2_B {\\nstatic Scanner...   \n",
       "\n",
       "                                               Tags Language  \n",
       "0                                 dp,greedy,strings      cpp  \n",
       "1                                 dp,greedy,strings      cpp  \n",
       "2                                 dp,greedy,strings      cpp  \n",
       "3                                            greedy      cpp  \n",
       "4       dfs and similar,graphs,shortest paths,trees      cpp  \n",
       "...                                             ...      ...  \n",
       "250514                           dp,greedy,sortings     java  \n",
       "250515                                         math     java  \n",
       "250516                           dp,greedy,sortings     java  \n",
       "250517                           dp,greedy,sortings     java  \n",
       "250518                           dp,greedy,sortings     java  \n",
       "\n",
       "[247983 rows x 3 columns]>"
      ]
     },
     "execution_count": 4,
     "metadata": {},
     "output_type": "execute_result"
    }
   ],
   "source": [
    "data.head()\n",
    "data.info"
   ]
  },
  {
   "cell_type": "code",
   "execution_count": 5,
   "id": "b712f55b-b7a1-437c-bd0a-ba7d8a5b60a9",
   "metadata": {},
   "outputs": [
    {
     "data": {
      "text/plain": [
       "Tags\n",
       "implementation                                                         17631\n",
       "math                                                                    7489\n",
       "greedy                                                                  6613\n",
       "brute force,implementation                                              5582\n",
       "implementation,math                                                     5564\n",
       "                                                                       ...  \n",
       "data structures,math,number theory                                         5\n",
       "chinese remainder theorem,combinatorics,math,number theory                 5\n",
       "data structures,dfs and similar,graphs,shortest paths,strings,trees        5\n",
       "greedy,math,probabilities                                                  5\n",
       "combinatorics,dfs and similar,dp,geometry,trees                            5\n",
       "Name: count, Length: 1291, dtype: int64"
      ]
     },
     "execution_count": 5,
     "metadata": {},
     "output_type": "execute_result"
    }
   ],
   "source": [
    "tag_counts = data['Tags'].value_counts()\n",
    "tag_counts"
   ]
  },
  {
   "cell_type": "code",
   "execution_count": 6,
   "id": "58a3918d-b4ff-47d2-9f6f-232d491509ff",
   "metadata": {},
   "outputs": [
    {
     "name": "stdout",
     "output_type": "stream",
     "text": [
      "Размер обучающего набора: 198386\n",
      "Размер валидационного набора: 49597\n"
     ]
    }
   ],
   "source": [
    "train_df, valid_df = train_test_split(\n",
    "    data,  # Исходные данные\n",
    "    test_size=0.2,  # Размер валидационной выборки\n",
    "    random_state=42,  # Сид для воспроизводимости\n",
    "    stratify=data['Language']  # Стратификация по столбцу 'Language'\n",
    ")\n",
    "\n",
    "print(\"Размер обучающего набора:\", train_df.shape[0])\n",
    "print(\"Размер валидационного набора:\", valid_df.shape[0])"
   ]
  },
  {
   "cell_type": "code",
   "execution_count": 7,
   "id": "f369544e-9cb7-40f5-9f6d-dcbf48ae8a00",
   "metadata": {
    "scrolled": true
   },
   "outputs": [
    {
     "data": {
      "image/png": "[encoded data removed]",
      "text/plain": [
       "<Figure size 1400x700 with 2 Axes>"
      ]
     },
     "metadata": {},
     "output_type": "display_data"
    }
   ],
   "source": [
    "import matplotlib.pyplot as plt\n",
    "train_language_distribution = train_df['Language'].value_counts()\n",
    "valid_language_distribution = valid_df['Language'].value_counts()\n",
    "\n",
    "fig, ax = plt.subplots(1, 2, figsize=(14, 7))\n",
    "\n",
    "train_language_distribution.plot(kind='bar', ax=ax[0], color='blue')\n",
    "ax[0].set_title('Распределение языков в обучающей выборке')\n",
    "ax[0].set_xlabel('Язык программирования')\n",
    "ax[0].set_ylabel('Количество')\n",
    "\n",
    "valid_language_distribution.plot(kind='bar', ax=ax[1], color='orange')\n",
    "ax[1].set_title('Распределение языков в валидационной выборке')\n",
    "ax[1].set_xlabel('Язык программирования')\n",
    "ax[1].set_ylabel('Количество')\n",
    "\n",
    "plt.tight_layout()\n",
    "plt.show()"
   ]
  },
  {
   "cell_type": "code",
   "execution_count": 8,
   "id": "f5a117d2-8dfb-4595-9a62-caa1f8699fcd",
   "metadata": {},
   "outputs": [],
   "source": [
    "data['Tags'].fillna('').astype(str)\n",
    "exploded_tags = data['Tags'].str.split(',').explode()\n",
    "unique_tags = exploded_tags.unique()\n",
    "unique_tags = [tag.strip() for tag in unique_tags if tag]"
   ]
  },
  {
   "cell_type": "code",
   "execution_count": 9,
   "id": "583d6cf7-e05f-428f-b88d-724a39758ce9",
   "metadata": {
    "scrolled": true
   },
   "outputs": [],
   "source": [
    "all_tags = unique_tags"
   ]
  },
  {
   "cell_type": "code",
   "execution_count": 10,
   "id": "61ea48ec-da2f-4da8-8a83-c9ffe15bfd7a",
   "metadata": {
    "scrolled": true
   },
   "outputs": [
    {
     "data": {
      "text/plain": [
       "list"
      ]
     },
     "execution_count": 10,
     "metadata": {},
     "output_type": "execute_result"
    }
   ],
   "source": [
    "type(all_tags)"
   ]
  },
  {
   "cell_type": "code",
   "execution_count": 11,
   "id": "d6f5be4f-314f-4977-a668-b35802adc1f9",
   "metadata": {},
   "outputs": [
    {
     "data": {
      "text/plain": [
       "['dp',\n",
       " 'greedy',\n",
       " 'strings',\n",
       " 'dfs and similar',\n",
       " 'graphs',\n",
       " 'shortest paths',\n",
       " 'trees',\n",
       " 'constructive algorithms',\n",
       " 'math',\n",
       " 'games',\n",
       " 'data structures',\n",
       " 'string suffix structures',\n",
       " 'sortings',\n",
       " 'implementation',\n",
       " 'bitmasks',\n",
       " 'brute force',\n",
       " 'binary search',\n",
       " 'interactive',\n",
       " 'probabilities',\n",
       " 'dsu',\n",
       " 'two pointers',\n",
       " 'divide and conquer',\n",
       " 'combinatorics',\n",
       " 'meet-in-the-middle',\n",
       " 'number theory',\n",
       " 'geometry',\n",
       " 'hashing',\n",
       " 'flows',\n",
       " 'graph matchings',\n",
       " '*special',\n",
       " 'ternary search',\n",
       " 'fft',\n",
       " 'matrices',\n",
       " 'chinese remainder theorem',\n",
       " 'expression parsing',\n",
       " '2-sat',\n",
       " 'schedules']"
      ]
     },
     "execution_count": 11,
     "metadata": {},
     "output_type": "execute_result"
    }
   ],
   "source": [
    "all_tags"
   ]
  },
  {
   "cell_type": "code",
   "execution_count": 12,
   "id": "ab929e34-26a4-4a27-83e1-37200c5f7f30",
   "metadata": {},
   "outputs": [
    {
     "name": "stderr",
     "output_type": "stream",
     "text": [
      "C:\\Users\\1\\anaconda3\\envs\\py_torch\\Lib\\site-packages\\huggingface_hub\\file_download.py:1132: FutureWarning: `resume_download` is deprecated and will be removed in version 1.0.0. Downloads always resume when possible. If you want to force a new download, use `force_download=True`.\n",
      "  warnings.warn(\n"
     ]
    },
    {
     "data": {
      "text/plain": [
       "RobertaConfig {\n",
       "  \"_name_or_path\": \"microsoft/codebert-base\",\n",
       "  \"architectures\": [\n",
       "    \"RobertaModel\"\n",
       "  ],\n",
       "  \"attention_probs_dropout_prob\": 0.1,\n",
       "  \"bos_token_id\": 0,\n",
       "  \"classifier_dropout\": null,\n",
       "  \"eos_token_id\": 2,\n",
       "  \"hidden_act\": \"gelu\",\n",
       "  \"hidden_dropout_prob\": 0.1,\n",
       "  \"hidden_size\": 768,\n",
       "  \"initializer_range\": 0.02,\n",
       "  \"intermediate_size\": 3072,\n",
       "  \"layer_norm_eps\": 1e-05,\n",
       "  \"max_position_embeddings\": 514,\n",
       "  \"model_type\": \"roberta\",\n",
       "  \"num_attention_heads\": 12,\n",
       "  \"num_hidden_layers\": 12,\n",
       "  \"output_attentions\": true,\n",
       "  \"output_past\": true,\n",
       "  \"pad_token_id\": 1,\n",
       "  \"position_embedding_type\": \"absolute\",\n",
       "  \"transformers_version\": \"4.40.2\",\n",
       "  \"type_vocab_size\": 1,\n",
       "  \"use_cache\": true,\n",
       "  \"vocab_size\": 50265\n",
       "}"
      ]
     },
     "execution_count": 12,
     "metadata": {},
     "output_type": "execute_result"
    }
   ],
   "source": [
    "model_config = AutoConfig.from_pretrained(\"microsoft/codebert-base\", output_attentions=True)\n",
    "#model_config = AutoConfig.from_pretrained(\"bert-base-uncased\", output_attentions=True)\n",
    "model_config"
   ]
  },
  {
   "cell_type": "code",
   "execution_count": 13,
   "id": "b05a6be5-f374-4a06-93ec-818644f1f8e8",
   "metadata": {},
   "outputs": [
    {
     "name": "stderr",
     "output_type": "stream",
     "text": [
      "C:\\Users\\1\\anaconda3\\envs\\py_torch\\Lib\\site-packages\\huggingface_hub\\file_download.py:1132: FutureWarning: `resume_download` is deprecated and will be removed in version 1.0.0. Downloads always resume when possible. If you want to force a new download, use `force_download=True`.\n",
      "  warnings.warn(\n"
     ]
    }
   ],
   "source": [
    "config = {\n",
    "    'seed' : 42,\n",
    "    'tags' : all_tags,\n",
    "    'batchSize' : 3,\n",
    "    'lr' : 5e-6,\n",
    "    'trainMaxLength' : 512,\n",
    "    'testMaxLength' : 512,\n",
    "    'numEpochs' : 200,\n",
    "    'model' : AutoModel.from_config(model_config),\n",
    "    'tokenizer' : RobertaTokenizer.from_pretrained('microsoft/codebert-base'),\n",
    "    'gradient_accumulation_steps' : 4,\n",
    "    'max_grad_norm' : 1.0,\n",
    "    'task' : 'tag', \n",
    "    'save' : True,\n",
    "}"
   ]
  },
  {
   "cell_type": "code",
   "execution_count": 14,
   "id": "a66de65c-2cc5-42d5-9a50-598b19565cd4",
   "metadata": {},
   "outputs": [],
   "source": [
    "def set_seed(seed):\n",
    "    random.seed(seed)\n",
    "    np.random.seed(seed)\n",
    "    torch.manual_seed(seed)\n",
    "    if torch.cuda.is_available():\n",
    "        torch.cuda.manual_seed_all(seed)\n",
    "set_seed(config['seed'])"
   ]
  },
  {
   "cell_type": "code",
   "execution_count": 15,
   "id": "49c5e6c1-f215-4e21-a607-ccec28f5f108",
   "metadata": {
    "scrolled": true
   },
   "outputs": [
    {
     "name": "stdout",
     "output_type": "stream",
     "text": [
      "198386\n"
     ]
    }
   ],
   "source": [
    "config_tags = [tag.lower().strip() for tag in config['tags']]\n",
    "\n",
    "new_train_idx = []\n",
    "selected_train_tags = []\n",
    "\n",
    "for index in train_df.index:\n",
    "    raw_tags = train_df.loc[index]['Tags']\n",
    "    if not isinstance(raw_tags, str):\n",
    "        continue\n",
    "    row_tags = raw_tags.lower().split(',')\n",
    "\n",
    "    row_tags = [tag.strip() for tag in row_tags]\n",
    "    selected_tags = [tag for tag in row_tags if tag in config_tags]\n",
    "    if selected_tags:\n",
    "        new_train_idx.append(index)\n",
    "        selected_train_tags.append(selected_tags)\n",
    "\n",
    "print(len(new_train_idx))"
   ]
  },
  {
   "cell_type": "code",
   "execution_count": 16,
   "id": "60317f14-dc98-4df7-b102-e4ee6e5ebfe6",
   "metadata": {},
   "outputs": [
    {
     "data": {
      "text/plain": [
       "49597"
      ]
     },
     "execution_count": 16,
     "metadata": {},
     "output_type": "execute_result"
    }
   ],
   "source": [
    "config_tags = [tag.lower().strip() for tag in config[\"tags\"]]\n",
    "\n",
    "new_valid_idx = []\n",
    "selected_valid_tags = []\n",
    "\n",
    "for index, row in valid_df.iterrows():\n",
    "    raw_tags = row['Tags']\n",
    "    if not isinstance(raw_tags, str):\n",
    "        continue\n",
    "    row_tags = raw_tags.lower().split(',')\n",
    "    row_tags = [tag.strip() for tag in row_tags]\n",
    "    selected_tags = [tag for tag in row_tags if tag in config_tags]\n",
    "    if selected_tags:\n",
    "        selected_valid_tags.append(selected_tags)\n",
    "        new_valid_idx.append(index)\n",
    "\n",
    "len(new_valid_idx)"
   ]
  },
  {
   "cell_type": "code",
   "execution_count": 17,
   "id": "a432308e-8bd3-420f-8c73-0f84aa9c3e0f",
   "metadata": {},
   "outputs": [],
   "source": [
    "train_df = train_df.loc[new_train_idx]\n",
    "train_df['Tags'] = selected_train_tags\n",
    "\n",
    "valid_df = valid_df.loc[new_valid_idx]\n",
    "valid_df['Tags'] = selected_valid_tags"
   ]
  },
  {
   "cell_type": "code",
   "execution_count": 18,
   "id": "7677c6ee-8139-4ae4-b9bc-d7c276da3c75",
   "metadata": {},
   "outputs": [],
   "source": [
    "X_train = train_df['Code']\n",
    "X_test = valid_df['Code']\n",
    "\n",
    "y_tags_train = train_df['Tags']\n",
    "y_tags_test = valid_df['Tags']"
   ]
  },
  {
   "cell_type": "code",
   "execution_count": 19,
   "id": "269f6532-d8df-43e9-8674-a3ced86379e6",
   "metadata": {},
   "outputs": [],
   "source": [
    "# Create an instance of the MultiLabelBinarizer\n",
    "tag_label_encoder = MultiLabelBinarizer()\n",
    "\n",
    "y_tags_train = tag_label_encoder.fit_transform(y_tags_train)\n",
    "y_tags_test = tag_label_encoder.transform(y_tags_test)"
   ]
  },
  {
   "cell_type": "code",
   "execution_count": 20,
   "id": "8ea44258-8a97-4f42-99ae-cc5cd5cfff43",
   "metadata": {},
   "outputs": [],
   "source": [
    "# Define a class for multi-label classification head\n",
    "import torch.nn as nn\n",
    "import torch.nn.functional as F\n",
    "\n",
    "class MultiLabelClassificationHead(nn.Module):\n",
    "    def __init__(self, num_labels, hidden_size=768, dropout_rate=0.1):\n",
    "        super().__init__()\n",
    "        self.fc1 = nn.Linear(hidden_size, hidden_size)\n",
    "        self.ln1 = nn.LayerNorm(hidden_size)  # Используем LayerNorm вместо BatchNorm\n",
    "        self.dropout1 = nn.Dropout(dropout_rate)\n",
    "        self.fc2 = nn.Linear(hidden_size, hidden_size)\n",
    "        self.ln2 = nn.LayerNorm(hidden_size)  # Используем LayerNorm вместо BatchNorm\n",
    "        self.dropout2 = nn.Dropout(dropout_rate)\n",
    "        self.fc3 = nn.Linear(hidden_size, num_labels)\n",
    "        self.sigmoid = nn.Sigmoid()\n",
    "\n",
    "    def forward(self, x):\n",
    "        x = F.leaky_relu(self.ln1(self.fc1(x)))\n",
    "        x = self.dropout1(x)\n",
    "        x = F.leaky_relu(self.ln2(self.fc2(x)))\n",
    "        x = self.dropout2(x)\n",
    "        x = self.sigmoid(self.fc3(x))\n",
    "        return x\n",
    "\n",
    "class classifier(nn.Module):\n",
    "    def __init__(self, model, device, tags_num_classes):\n",
    "        super().__init__()\n",
    "        self.tags_num_classes = tags_num_classes  \n",
    "        self.device = device\n",
    "        self.tags_classifier = MultiLabelClassificationHead(num_labels=self.tags_num_classes).to(self.device)\n",
    "        self.BCE = nn.BCELoss().to(self.device)  \n",
    "        self.model = model\n",
    "        self.lr = config['lr']\n",
    "        self.task = config['task']\n",
    "\n",
    "        # Список параметров для оптимизатора\n",
    "        optimizer_params = [\n",
    "            {'params': self.model.parameters()},\n",
    "            {'params': self.tags_classifier.parameters()},\n",
    "        ]\n",
    "\n",
    "        # Initialize the optimizer with directly passing the parameters\n",
    "        self.optimizer = torch.optim.Adam(\n",
    "            optimizer_params,\n",
    "            lr=self.lr\n",
    "        )\n",
    "\n",
    "    def forward(self, input_ids, attention_mask, tags_labels):\n",
    "        outputs = self.model(input_ids=input_ids, attention_mask=attention_mask)\n",
    "        pooled_output = outputs.pooler_output # Pooled output from the model\n",
    "        attention_weights = outputs.attentions  # Получение весов внимания\n",
    "\n",
    "        \n",
    "        output = self.tags_classifier(pooled_output) # Predict tags using the tags classifier\n",
    "        loss = self.BCE(output, tags_labels) # Calculate the loss for tags\n",
    "        return loss, output\n",
    "        #return loss, output, attention_weights"
   ]
  },
  {
   "cell_type": "code",
   "execution_count": 21,
   "id": "c7bd0b5c-6b98-4698-b0ae-4079239f9b8e",
   "metadata": {},
   "outputs": [],
   "source": [
    "def tokenize(inputs, file_path):\n",
    "    tokenized_batches = {'input_ids': [], 'attention_mask': []}\n",
    "    for input_text in tqdm(inputs, desc='Tokenizing'):\n",
    "        tokenized_output = tokenizer(input_text, max_length=512, padding='max_length', truncation=True, return_tensors=\"pt\")\n",
    "        tokenized_batches['input_ids'].append(tokenized_output['input_ids'].squeeze(0))\n",
    "        tokenized_batches['attention_mask'].append(tokenized_output['attention_mask'].squeeze(0))\n",
    "\n",
    "    tokenized_batches['input_ids'] = torch.stack(tokenized_batches['input_ids'])\n",
    "    tokenized_batches['attention_mask'] = torch.stack(tokenized_batches['attention_mask'])\n",
    "\n",
    "    torch.save(tokenized_batches, file_path)\n",
    "    print(f\"Saved tokenized data to {file_path}\")\n",
    "    return tokenized_batches  # Возврат данных"
   ]
  },
  {
   "cell_type": "code",
   "execution_count": 22,
   "id": "8b837731-047a-49fa-bde3-91043fe6cfa7",
   "metadata": {},
   "outputs": [],
   "source": [
    "def convert_to_tensor(data, dtype):\n",
    "    # Convert data to tensors\n",
    "    tensor_data = torch.tensor(data, dtype=dtype)\n",
    "    return tensor_data"
   ]
  },
  {
   "cell_type": "code",
   "execution_count": 23,
   "id": "8daa772c-5d47-4811-afc2-225f4481697e",
   "metadata": {},
   "outputs": [],
   "source": [
    "class Trainer():\n",
    "    def __init__(self,\n",
    "                 model,\n",
    "                 tokenized_inputs_train,\n",
    "                 tokenized_inputs_test,\n",
    "                 tags_labels_train,\n",
    "                 tags_labels_test\n",
    "                ):\n",
    "        # Set the device (GPU or CPU)\n",
    "        self.device = torch.device('cuda' if torch.cuda.is_available() else 'cpu')\n",
    "\n",
    "        # Store the input data and labels\n",
    "        self.tokenized_inputs_train = tokenized_inputs_train\n",
    "        self.tokenized_inputs_test = tokenized_inputs_test\n",
    "\n",
    "        self.tags_labels_train = tags_labels_train\n",
    "        self.tags_labels_test = tags_labels_test\n",
    "\n",
    "        self.tags_num_classes = len(tags_labels_train[0])\n",
    "\n",
    "        # Move the model to the specified device\n",
    "        self.model = model.to(self.device)\n",
    "\n",
    "        # Define Classifier Instance\n",
    "        self.classifier_instance = classifier(self.model, self.device, self.tags_num_classes)\n",
    "\n",
    "        # Retrieve configuration parameters\n",
    "        self.batch_size = config['batchSize']\n",
    "        self.num_epochs = config['numEpochs']\n",
    "\n",
    "        self.accumulation_steps = config['gradient_accumulation_steps']\n",
    "        self.max_grad_norm = config['max_grad_norm']\n",
    "\n",
    "        self.tag_classes = tag_label_encoder.classes_\n",
    "\n",
    "        self.save = config['save']\n",
    "\n",
    "        # Initialize input data variables\n",
    "        self.input_ids_train = self.tokenized_inputs_train['input_ids']\n",
    "        self.attention_mask_train = self.tokenized_inputs_train['attention_mask']\n",
    "\n",
    "        self.input_ids_test = tokenized_inputs_test['input_ids']\n",
    "        self.attention_mask_test = tokenized_inputs_test['attention_mask']\n",
    "\n",
    "        self.task = config['task']\n",
    "        self.best_attention_weights = None\n",
    "\n",
    "    def train(self):\n",
    "    \n",
    "        input_ids_train = self.input_ids_train\n",
    "        attention_mask_train = self.attention_mask_train\n",
    "        tags_labels_train = self.tags_labels_train\n",
    "\n",
    "        input_ids_test = self.input_ids_test\n",
    "        attention_mask_test = self.attention_mask_test\n",
    "        tags_labels_test = self.tags_labels_test\n",
    "\n",
    "        # Set the optimizer and learning rate\n",
    "        optimizer = self.classifier_instance.optimizer\n",
    "        parameters = self.classifier_instance.parameters\n",
    "\n",
    "        # Set the batch size\n",
    "        batch_size = self.batch_size\n",
    "\n",
    "        # Create a DataLoader for batching the data\n",
    "        train_dataset = TensorDataset(input_ids_train, attention_mask_train, tags_labels_train)\n",
    "        train_dataloader = DataLoader(train_dataset, batch_size=batch_size, shuffle=True, drop_last=True, num_workers=0, pin_memory=True)\n",
    "\n",
    "        valid_dataset = TensorDataset(input_ids_test, attention_mask_test, tags_labels_test)\n",
    "        valid_dataloader = DataLoader(valid_dataset, batch_size=batch_size, shuffle=False, num_workers=0, pin_memory=True)\n",
    "\n",
    "        # Set the number of training epochs#\n",
    "        num_epochs = self.num_epochs\n",
    "        device = self.device\n",
    "\n",
    "        model = self.model\n",
    "        classifier_instance = self.classifier_instance\n",
    "\n",
    "        # Training loop\n",
    "        min_loss = 999999\n",
    "        total_f1_s = 0\n",
    "        count = 0\n",
    "\n",
    "        #epochs\n",
    "\n",
    "        max_total_f1_macro_score_epochs = 0\n",
    "        max_tag_acc_epochs = 0\n",
    "        max_tag_f1_macro_epochs = 0\n",
    "        max_tag_f1_micro_epochs = 0\n",
    "        max_tag_f1_weighted_epochs= 0\n",
    "        max_tag_f1_samples_epochs= 0\n",
    "        max_tag_roc_auc_score_epochs = 0\n",
    "        max_tag_precision_macro_epochs = 0\n",
    "        max_tag_recall_macro_epochs = 0\n",
    "\n",
    "        #score\n",
    "        max_total_f1_macro_score = 0\n",
    "        max_tag_acc = 0\n",
    "        max_tag_f1_macro = 0\n",
    "        max_tag_f1_micro = 0\n",
    "        max_tag_f1_weighted = 0\n",
    "        max_tag_f1_samples = 0\n",
    "        max_tag_roc_auc_score = 0\n",
    "        max_tag_precision_macro = 0\n",
    "        max_tag_recall_macro = 0\n",
    "       \n",
    "        thresholds = [0.001] + [i * 0.01 for i in range(1, 101)]\n",
    "\n",
    "        for epoch in range(num_epochs):\n",
    "            train_loss = 0.0\n",
    "            valid_loss = 0.0\n",
    "\n",
    "            tags_true = []\n",
    "            tags_pred = defaultdict(list)\n",
    "            tags_pred_proba = []\n",
    "\n",
    "            count += 1\n",
    "\n",
    "            # Training\n",
    "            classifier_instance.train()\n",
    "            # Zero the gradients\n",
    "            optimizer.zero_grad()\n",
    "            for batch in tqdm(train_dataloader):\n",
    "                # Unpack the batch\n",
    "                input_ids, attention_mask, tags_labels = batch\n",
    "\n",
    "                # Move the inputs and labels to the chosen device\n",
    "                input_ids = input_ids.to(device)\n",
    "                attention_mask = attention_mask.to(device)\n",
    "                tags_labels = tags_labels.to(device)\n",
    "\n",
    "                # Forward pass\n",
    "                loss, _ = classifier_instance(input_ids, attention_mask, tags_labels)\n",
    "                #loss, _, attention_weights = classifier_instance(input_ids, attention_mask, tags_labels)\n",
    "                loss /= self.accumulation_steps\n",
    "\n",
    "                # Backward pass and optimization\n",
    "                loss.backward()\n",
    "\n",
    "                if epoch % self.accumulation_steps ==  0 or epoch == batch_size - 1 or self.accumulation_steps == 0:\n",
    "                    if self.max_grad_norm > 0:\n",
    "\n",
    "                        torch.nn.utils.clip_grad_norm_(chain(\n",
    "                            model.parameters(),\n",
    "                            classifier_instance.tags_classifier.parameters()\n",
    "                        ), self.max_grad_norm)\n",
    "                    optimizer.step()\n",
    "                    optimizer.zero_grad()\n",
    "\n",
    "                train_loss += loss.item()\n",
    "\n",
    "            # Validation\n",
    "            #model.eval()\n",
    "            classifier_instance.eval()\n",
    "            with torch.no_grad():\n",
    "                for batch in tqdm(valid_dataloader):\n",
    "                    # Unpack the batch\n",
    "                    input_ids, attention_mask, tags_labels = batch\n",
    "\n",
    "                    input_ids = input_ids.to(device)\n",
    "                    attention_mask = attention_mask.to(device)\n",
    "                    tags_labels = tags_labels.to(device)\n",
    "\n",
    "                    # Forward pass\n",
    "                    loss, output = classifier_instance(input_ids, attention_mask, tags_labels)\n",
    "                    #loss, output, attention_weights = classifier_instance(input_ids, attention_mask, tags_labels)\n",
    "\n",
    "                    valid_loss += loss.item()\n",
    "\n",
    "                    tags_output = output\n",
    "\n",
    "                    tags_pred_proba.extend(tags_output.detach().cpu().clone().tolist())\n",
    "\n",
    "                    for threshold in thresholds:\n",
    "                        tags_pred[threshold].extend([(row >= threshold).nonzero().flatten().tolist() for row in tags_output.detach().cpu().clone()])\n",
    "\n",
    "                    tags_true.extend([torch.nonzero(row).flatten().tolist() for row in tags_labels.detach().cpu().clone()])\n",
    "\n",
    "            # Calculate average loss\n",
    "            train_loss /= len(train_dataset)\n",
    "            valid_loss /= len(valid_dataset)\n",
    "\n",
    "\n",
    "            if epoch % self.accumulation_steps ==  0 or epoch == batch_size - 1 or self.accumulation_steps == 0:\n",
    "\n",
    "                # Print the loss, F1 score, precision, and recall for monitoring\n",
    "                print(f\"Epoch {epoch+1}/{num_epochs}, Train Loss: {train_loss:.4f}, Valid Loss: {valid_loss:.4f}\")\n",
    "\n",
    "                tag_true = []\n",
    "\n",
    "                \n",
    "\n",
    "                for index_list in tags_true:\n",
    "                    result_true = [0] * self.tags_num_classes  # Create a list of length num_classes.\n",
    "                    for index in index_list:\n",
    "                        result_true[index] = 1  # Fill the corresponding index with 1.\n",
    "\n",
    "                    tag_true.append(result_true)\n",
    "\n",
    "\n",
    "                    epoch_max_tag_acc = 0\n",
    "                    epoch_max_tag_f1_macro = 0\n",
    "                    epoch_max_tag_f1_micro = 0\n",
    "                    epoch_max_tag_f1_weighted = 0\n",
    "                    epoch_max_tag_f1_samples = 0\n",
    "                    epoch_max_tag_precision_macro = 0\n",
    "                    epoch_max_tag_recall_macro = 0\n",
    "\n",
    "                    epoch_max_tag_roc_auc_score = roc_auc_score(tag_true, tags_pred_proba)\n",
    "                    tag_true = np.array(tag_true)\n",
    "                    tags_pred_proba = np.array(tags_pred_proba)\n",
    "\n",
    "                    for threshold in thresholds:\n",
    "                        tag_pred = []\n",
    "                        for index_list in tags_pred[threshold]:\n",
    "                            result_pred = [0] * self.tags_num_classes  # Create a list of length num_classes.\n",
    "                            for index in index_list:\n",
    "                                result_pred[index] = 1 # Fill the corresponding index with 1.\n",
    "\n",
    "                            tag_pred.append(result_pred)\n",
    "\n",
    "                        # tag\n",
    "\n",
    "                        tag_acc = accuracy_score(tag_true, tag_pred)\n",
    "                        tag_f1_macro = f1_score(tag_true, tag_pred, average='macro', zero_division=0)\n",
    "                        tag_f1_micro = f1_score(tag_true, tag_pred, average='micro', zero_division=0)\n",
    "                        tag_f1_weighted = f1_score(tag_true, tag_pred, average='weighted', zero_division=0)\n",
    "                        tag_f1_samples = f1_score(tag_true, tag_pred, average='samples', zero_division=0)\n",
    "                        tag_precision_macro = precision_score(tag_true, tag_pred, average='macro', zero_division=0)\n",
    "                        tag_recall_macro = recall_score(tag_true, tag_pred, average='macro', zero_division=0)\n",
    "\n",
    "                        epoch_max_tag_acc = max(epoch_max_tag_acc, tag_acc)\n",
    "                        epoch_max_tag_f1_macro = max(epoch_max_tag_f1_macro, tag_f1_macro)\n",
    "                        epoch_max_tag_f1_micro = max(epoch_max_tag_f1_micro, tag_f1_micro)\n",
    "                        epoch_max_tag_f1_weighted = max(epoch_max_tag_f1_weighted, tag_f1_weighted)\n",
    "                        epoch_max_tag_f1_samples = max(epoch_max_tag_f1_samples, tag_f1_samples)\n",
    "                        epoch_max_tag_precision_macro = max(epoch_max_tag_precision_macro, tag_precision_macro)\n",
    "                        epoch_max_tag_recall_macro = max(epoch_max_tag_recall_macro, tag_recall_macro)\n",
    "\n",
    "                    #tag\n",
    "                    print(\"tag acc Max Score in this epoch:\", epoch_max_tag_acc)\n",
    "                    print(\"tag valid Max F1 Score(macro) per class in this epoch:\", epoch_max_tag_f1_macro)\n",
    "                    print(\"tag valid Max F1 Score(micro) per class in this epoch:\", epoch_max_tag_f1_micro)\n",
    "                    print(\"tag valid Max F1 Score(weighted) per class in this epoch:\", epoch_max_tag_f1_weighted)\n",
    "                    print(\"tag valid Max F1 Score(samples) per class in this epoch:\", epoch_max_tag_f1_samples)\n",
    "                    print(\"tag valid Max F1 Score(samples) per class in this epoch:\", epoch_max_tag_f1_samples)\n",
    "                    print(\"tag valid Max Precision Score(macro) per class in this epoch:\", epoch_max_tag_precision_macro)\n",
    "                    print(\"tag valid Max Recall Score(macro) per class in this epoch:\", epoch_max_tag_recall_macro)\n",
    "\n",
    "\n",
    "                    print()\n",
    "                    print(\"tag valid Max roc_auc_score avg in this epoch:\", epoch_max_tag_roc_auc_score)\n",
    "\n",
    "                    for num_classes in range(self.tags_num_classes):\n",
    "                        score = roc_auc_score(tag_true[:, num_classes], tags_pred_proba[:, num_classes])\n",
    "                        print(f\"{self.tag_classes[num_classes]} : {score}\")\n",
    "                    print()\n",
    "\n",
    "                    print(f\"tag acc Max Score: {max_tag_acc} at {max_tag_acc_epochs + 1}epochs\")\n",
    "                    print(f\"tag valid Max F1 Score(macro) per class: {max_tag_f1_macro} at {max_tag_f1_macro_epochs + 1} epochs\")\n",
    "                    print(f\"tag valid Max F1 Score(micro) per class: {max_tag_f1_micro} at {max_tag_f1_micro_epochs + 1} epochs\")\n",
    "                    print(f\"tag valid Max F1 Score(weighted) per class: {max_tag_f1_weighted} at {max_tag_f1_weighted_epochs + 1} epochs\")\n",
    "                    print(f\"tag valid Max F1 Score(samples) per class: {max_tag_f1_samples} at {max_tag_f1_samples_epochs + 1 } epochs\")\n",
    "                    print(f\"tag valid Max Precision Score(macro): {max_tag_precision_macro} at {max_tag_precision_macro_epochs + 1} epochs\")\n",
    "                    print(f\"tag valid Max Recall Score(macro): {max_tag_recall_macro} at {max_tag_recall_macro_epochs + 1} epochs\")\n",
    "                    print(f\"tag valid Max roc_auc_score: {max_tag_roc_auc_score} at {max_tag_roc_auc_score_epochs + 1} epochs\")\n",
    "                    \n",
    "                    print()\n",
    "\n",
    "      \n",
    "                    if epoch_max_tag_acc > max_tag_acc:\n",
    "                        max_tag_acc_epochs = epoch\n",
    "                        max_tag_acc = max(epoch_max_tag_acc, max_tag_acc)\n",
    "\n",
    "                    if epoch_max_tag_f1_macro > max_tag_f1_macro:\n",
    "                        max_tag_f1_macro_epochs = epoch\n",
    "                        max_tag_f1_macro = max(epoch_max_tag_f1_macro, max_tag_f1_macro)\n",
    "                       # self.save_attention_weights(epoch, attention_weights)\n",
    "                        #self.best_attention_weights = attention_weights[-1].detach().cpu().numpy()\n",
    "                        now = datetime.now()\n",
    "                        task = config['task']\n",
    "                        \n",
    "                        if self.save:\n",
    "                            self.save_checkpoint(task, model, epoch)\n",
    "                            print(f'Checkpoint Saved for Epoch {epoch}')\n",
    "                            #self.save_full_model(task, model, epoch)\n",
    "                            #self.save_attention_weights(epoch)\n",
    "                        print('Best Model Saved')\n",
    "                        print()\n",
    "\n",
    "                    if epoch_max_tag_f1_micro > max_tag_f1_micro:\n",
    "                        max_tag_f1_micro_epochs = epoch\n",
    "                        max_tag_f1_micro = max(epoch_max_tag_f1_micro, max_tag_f1_micro)\n",
    "\n",
    "                    if epoch_max_tag_f1_weighted > max_tag_f1_weighted:\n",
    "                        max_tag_f1_weighted_epochs = epoch\n",
    "                        max_tag_f1_weighted = max(epoch_max_tag_f1_weighted, max_tag_f1_weighted)\n",
    "\n",
    "                    if epoch_max_tag_f1_samples > max_tag_f1_samples:\n",
    "                        max_tag_f1_samples_epochs = epoch\n",
    "                        max_tag_f1_samples = max(epoch_max_tag_f1_samples, max_tag_f1_samples)\n",
    "                   \n",
    "                    if epoch_max_tag_precision_macro > max_tag_precision_macro:\n",
    "                        max_tag_precision_macro_epochs = epoch\n",
    "                        max_tag_precision_macro = max(epoch_max_tag_precision_macro, max_tag_precision_macro)\n",
    "                    \n",
    "                    if epoch_max_tag_recall_macro > max_tag_recall_macro:\n",
    "                        max_tag_recall_macro_epochs = epoch\n",
    "                        max_tag_recall_macro = max(epoch_max_tag_recall_macro, max_tag_recall_macro)\n",
    "                        \n",
    "                    if epoch_max_tag_roc_auc_score > max_tag_roc_auc_score:\n",
    "                        max_tag_roc_auc_score_epochs = epoch\n",
    "                        max_tag_roc_auc_score = max(epoch_max_tag_roc_auc_score, max_tag_roc_auc_score)\n",
    "\n",
    "    def save_full_model(self, task, model, epoch, max_checkpoints=5):\n",
    "        now = datetime.now()\n",
    "        today = now.strftime('%Y-%m-%d')\n",
    "        checkpoint_filename = f\"{today}_{epoch + 1}\"\n",
    "        checkpoint_path = os.path.join(f\"./models/{task}/{today}\", checkpoint_filename)\n",
    "\n",
    "        if not os.path.exists(checkpoint_path):\n",
    "            os.makedirs(checkpoint_path)\n",
    "        # Save the entire model\n",
    "        model_path = os.path.join(checkpoint_path, \"complete_model.pt\")\n",
    "        torch.save(self.model.state_dict(), model_path)\n",
    "        # Manage the number of saved checkpoints\n",
    "        checkpoint_files = sorted(os.listdir(checkpoint_path))\n",
    "        while len(checkpoint_files) > max_checkpoints:\n",
    "            oldest_file = os.path.join(checkpoint_path, checkpoint_files[0])\n",
    "            os.remove(oldest_file)\n",
    "            checkpoint_files.pop(0)\n",
    "    \n",
    "    def save_attention_weights(self, epoch):\n",
    "        directory = f\"./models/attention_weights/{epoch}\"\n",
    "        if not os.path.exists(directory):\n",
    "            os.makedirs(directory)\n",
    "        file_path = os.path.join(directory, f\"attention_weights_epoch_{epoch}.npy\")\n",
    "        np.save(file_path, self.best_attention_weights)\n",
    "        print(f\"Saved best attention weights to {file_path}\")\n",
    "    # состояние классификатора\n",
    "    def save_checkpoint(self, task, model, epoch, max_checkpoints=5):\n",
    "        now = datetime.now()\n",
    "        today = now.strftime('%Y-%m-%d')\n",
    "        checkpoint_filename = f\"{now.strftime('%Y-%m-%d')}_{epoch + 1}\"\n",
    "        checkpoint_path = os.path.join(f\"./models/{task}/{today}\", checkpoint_filename)\n",
    "\n",
    "        if not os.path.exists(checkpoint_path):\n",
    "            os.makedirs(checkpoint_path)\n",
    "\n",
    "        torch.save(self.classifier_instance.state_dict(), os.path.join(checkpoint_path, f\"model.pt\"))\n",
    "        checkpoint_files = sorted(os.listdir(f\"./models/{task}/{today}\"))\n",
    "        while len(checkpoint_files) > max_checkpoints + 1:\n",
    "            checkpoint_files = sorted(os.listdir(f\"./models/{task}/{today}\"))\n",
    "            oldest_checkpoint = os.path.join(f\"./models/{task}/{today}\", checkpoint_files[0])\n",
    "            if os.path.exists(oldest_checkpoint) and os.path.isdir(oldest_checkpoint):\n",
    "                try:\n",
    "                    shutil.rmtree(oldest_checkpoint)\n",
    "                except Exception as e:\n",
    "                    print(f\"Error while deleting directory: {e}\")"
   ]
  },
  {
   "cell_type": "code",
   "execution_count": 24,
   "id": "d90007ed-706f-4ce4-bc07-88cfbbb57ef8",
   "metadata": {},
   "outputs": [],
   "source": [
    "tokenizer = config['tokenizer']\n",
    "model = config['model']"
   ]
  },
  {
   "cell_type": "code",
   "execution_count": 25,
   "id": "7dda61a2-78b7-4e57-b74f-d426940db469",
   "metadata": {},
   "outputs": [],
   "source": [
    "X_train = X_train.fillna('')\n",
    "X_test = X_test.fillna('')"
   ]
  },
  {
   "cell_type": "code",
   "execution_count": 26,
   "id": "2b47fbc7-790a-421f-b57a-8d8d0ded8cf4",
   "metadata": {},
   "outputs": [
    {
     "name": "stderr",
     "output_type": "stream",
     "text": [
      "Tokenizing: 100%|█████████████████████████████████████████████████████████████| 198386/198386 [04:05<00:00, 808.46it/s]\n"
     ]
    },
    {
     "name": "stdout",
     "output_type": "stream",
     "text": [
      "Saved tokenized data to tokenized_data_train.pt\n"
     ]
    },
    {
     "name": "stderr",
     "output_type": "stream",
     "text": [
      "Tokenizing: 100%|███████████████████████████████████████████████████████████████| 49597/49597 [01:01<00:00, 808.10it/s]\n"
     ]
    },
    {
     "name": "stdout",
     "output_type": "stream",
     "text": [
      "Saved tokenized data to tokenized_data_test.pt\n"
     ]
    }
   ],
   "source": [
    "tokenized_inputs_train = tokenize(X_train, 'tokenized_data_train.pt')\n",
    "tokenized_inputs_test = tokenize(X_test, 'tokenized_data_test.pt')"
   ]
  },
  {
   "cell_type": "code",
   "execution_count": 26,
   "id": "8e340344-84e3-4e6b-ac80-f7c2230dc489",
   "metadata": {},
   "outputs": [],
   "source": [
    "# Загрузка обучающих данных\n",
    "tokenized_inputs_train = torch.load('tokenized_data_train.pt')\n",
    "\n",
    "# Загрузка тестовых данных\n",
    "tokenized_inputs_test = torch.load('tokenized_data_test.pt')"
   ]
  },
  {
   "cell_type": "code",
   "execution_count": 27,
   "id": "11835c6e-02b7-4ffd-8b52-f96890f4ed3e",
   "metadata": {},
   "outputs": [],
   "source": [
    "tags_labels_train = convert_to_tensor(y_tags_train, dtype=torch.float)\n",
    "tags_labels_test = convert_to_tensor(y_tags_test, dtype=torch.float)"
   ]
  },
  {
   "cell_type": "code",
   "execution_count": 28,
   "id": "f05738db-36af-42f6-bcc8-672d47f0afe1",
   "metadata": {},
   "outputs": [
    {
     "name": "stdout",
     "output_type": "stream",
     "text": [
      "<class 'dict'>\n",
      "dict_keys(['input_ids', 'attention_mask'])\n"
     ]
    }
   ],
   "source": [
    "print(type(tokenized_inputs_train))\n",
    "print(tokenized_inputs_train.keys())"
   ]
  },
  {
   "cell_type": "code",
   "execution_count": 29,
   "id": "9043fed5-4802-4bce-965c-5977ccf6049b",
   "metadata": {
    "scrolled": true
   },
   "outputs": [],
   "source": [
    "trainer = Trainer(model,\n",
    "                 tokenized_inputs_train,\n",
    "                 tokenized_inputs_test,\n",
    "                 tags_labels_train,\n",
    "                 tags_labels_test\n",
    "                 )"
   ]
  },
  {
   "cell_type": "code",
   "execution_count": null,
   "id": "a57d7996-5973-45c1-ade4-ace85097a336",
   "metadata": {
    "scrolled": true
   },
   "outputs": [
    {
     "name": "stderr",
     "output_type": "stream",
     "text": [
      "  0%|▏                                                                           | 195/66128 [00:16<1:31:03, 12.07it/s]"
     ]
    }
   ],
   "source": [
    "trainer.train()"
   ]
  },
  {
   "cell_type": "code",
   "execution_count": 30,
   "id": "0e042947-44ad-49aa-ab16-2703e4d561e1",
   "metadata": {},
   "outputs": [],
   "source": [
    "from sklearn.metrics import roc_curve, auc\n",
    "import matplotlib.pyplot as plt"
   ]
  },
  {
   "cell_type": "code",
   "execution_count": 31,
   "id": "ab57c4cb-daa7-4717-ba67-f277fddf76ac",
   "metadata": {},
   "outputs": [],
   "source": [
    "state = torch.load('models/tag/2024-05-16/2024-05-16_9/model.pt')"
   ]
  },
  {
   "cell_type": "code",
   "execution_count": 43,
   "id": "5e4710ab-5b96-4943-b82c-6a3b08e64c9d",
   "metadata": {},
   "outputs": [],
   "source": [
    "state = torch.load('models/tag/2024-05-16/2024-05-16_5/model.pt')"
   ]
  },
  {
   "cell_type": "code",
   "execution_count": 32,
   "id": "3e96fdc4-670e-49ae-a816-1cb3c29fcf5f",
   "metadata": {},
   "outputs": [],
   "source": [
    "model_state_dict = {}\n",
    "tag_state_dict = {}     "
   ]
  },
  {
   "cell_type": "code",
   "execution_count": 33,
   "id": "1156a013-e8c0-48f2-843b-f1f2a3302495",
   "metadata": {},
   "outputs": [],
   "source": [
    "for k, v in state.items():\n",
    "    if \"model.\" in k:\n",
    "        name = k[6:]\n",
    "        model_state_dict[name] = v\n",
    "    if \"tags_classifier.\" in k:\n",
    "        name = k[len(\"tags_classifier.\"):]\n",
    "        tag_state_dict[name] = v"
   ]
  },
  {
   "cell_type": "code",
   "execution_count": 34,
   "id": "390929de-c7cf-4c28-befa-ec45fdac439e",
   "metadata": {},
   "outputs": [],
   "source": [
    "tag_head = MultiLabelClassificationHead(len(all_tags))"
   ]
  },
  {
   "cell_type": "code",
   "execution_count": 35,
   "id": "a38a4c50-f4fe-4476-9f1f-3e90ae662af1",
   "metadata": {},
   "outputs": [
    {
     "data": {
      "text/plain": [
       "<All keys matched successfully>"
      ]
     },
     "execution_count": 35,
     "metadata": {},
     "output_type": "execute_result"
    }
   ],
   "source": [
    "model.load_state_dict(model_state_dict)\n",
    "tag_head.load_state_dict(tag_state_dict)"
   ]
  },
  {
   "cell_type": "code",
   "execution_count": 36,
   "id": "4e2568bb-4973-4f05-acff-9fd186fb4984",
   "metadata": {},
   "outputs": [],
   "source": [
    "device = torch.device('cuda' if torch.cuda.is_available() else 'cpu')"
   ]
  },
  {
   "cell_type": "code",
   "execution_count": 37,
   "id": "76fc7ce0-2093-4601-bca8-b2c26d48bbe9",
   "metadata": {},
   "outputs": [
    {
     "name": "stdout",
     "output_type": "stream",
     "text": [
      "device :  cuda\n"
     ]
    }
   ],
   "source": [
    "model.to(device)\n",
    "tag_head.to(device)\n",
    "print('device : ', device)"
   ]
  },
  {
   "cell_type": "code",
   "execution_count": 38,
   "id": "b6720c1e-11f4-4f08-a2b1-99b889729711",
   "metadata": {},
   "outputs": [],
   "source": [
    "valid_dataset = TensorDataset(tokenized_inputs_test['input_ids'], tokenized_inputs_test['attention_mask'], tags_labels_test)\n",
    "valid_dataloader = DataLoader(valid_dataset, batch_size=config['batchSize'], shuffle=False, num_workers=0, pin_memory=True)\n",
    "train_dataset = TensorDataset(tokenized_inputs_train['input_ids'], tokenized_inputs_train['attention_mask'], tags_labels_train)\n",
    "train_dataloader = DataLoader(train_dataset, batch_size=config['batchSize'], shuffle=True, num_workers=0, pin_memory=True)"
   ]
  },
  {
   "cell_type": "code",
   "execution_count": null,
   "id": "00a51d44",
   "metadata": {},
   "outputs": [],
   "source": [
    "model.eval()\n",
    "tag_head.eval()\n",
    "\n",
    "with torch.no_grad():\n",
    "    thresholds = [0.001] + [i * 0.01 for i in range(1, 101)]\n",
    "    tags_true = []\n",
    "    tags_pred = defaultdict(list)\n",
    "    tags_pred_proba = []\n",
    "\n",
    "    for batch in tqdm(valid_dataloader):\n",
    "        input_ids, attention_mask, tags_labels = batch\n",
    "\n",
    "        input_ids = input_ids.to(device)\n",
    "        attention_mask = attention_mask.to(device)\n",
    "        tags_labels = tags_labels.to(device)\n",
    "\n",
    "        outputs = model(input_ids=input_ids, attention_mask=attention_mask)\n",
    "        pooled_output = outputs.pooler_output\n",
    "        tags_output = tag_head(pooled_output)\n",
    "\n",
    "        tags_true.extend([torch.nonzero(row).flatten().tolist() for row in tags_labels.detach().cpu().clone()])\n",
    "        tags_pred_proba.extend(tags_output.detach().cpu().clone().tolist())\n",
    "\n",
    "        for threshold in thresholds:\n",
    "            tags_pred[threshold].extend([(row >= threshold).nonzero().flatten().tolist() for row in tags_output.detach().cpu().clone()])\n",
    "\n",
    "    tag_true = []\n",
    "    for index_list in tags_true:\n",
    "        result_true = [0] * len(all_tags)\n",
    "        for index in index_list:\n",
    "            result_true[index] = 1\n",
    "        tag_true.append(result_true)\n",
    "\n",
    "    tag_true = np.array(tag_true)\n",
    "    tags_pred_proba = np.array(tags_pred_proba)\n",
    "\n",
    "    optimal_threshold = 0\n",
    "    max_f1_score = 0\n",
    "    best_precision = 0\n",
    "    best_recall = 0\n",
    "    best_accuracy = 0\n",
    "\n",
    "    for threshold in thresholds:\n",
    "        tag_pred = []\n",
    "        for index_list in tags_pred[threshold]:\n",
    "            result_pred = [0] * len(all_tags)\n",
    "            for index in index_list:\n",
    "                result_pred[index] = 1\n",
    "            tag_pred.append(result_pred)\n",
    "\n",
    "        precision = precision_score(tag_true, tag_pred, average='macro', zero_division=0)\n",
    "        recall = recall_score(tag_true, tag_pred, average='macro', zero_division=0)\n",
    "        f1 = f1_score(tag_true, tag_pred, average='macro', zero_division=0)\n",
    "        accuracy = accuracy_score(tag_true, tag_pred)\n",
    "\n",
    "        if max_f1_score < f1:\n",
    "            optimal_threshold = threshold\n",
    "            max_f1_score = f1\n",
    "            best_precision = precision\n",
    "            best_recall = recall\n",
    "            best_accuracy = accuracy\n",
    "\n",
    "    print(f\"Optimal Threshold: {optimal_threshold}\")\n",
    "    print(f\"Max F1 Score: {max_f1_score}\")\n",
    "    print(f\"Best Precision: {best_precision}\")\n",
    "    print(f\"Best Recall: {best_recall}\")\n",
    "    print(f\"Best Accuracy: {best_accuracy}\")\n",
    "\n",
    "# ROC Curve Calculation and Plotting for Validation Set\n",
    "fpr = dict()\n",
    "tpr = dict()\n",
    "roc_auc = dict()\n",
    "\n",
    "colors = plt.cm.nipy_spectral(np.linspace(0, 1, len(all_tags)))\n",
    "\n",
    "plt.figure(figsize=(20, 15))\n",
    "\n",
    "for i, color in enumerate(colors):\n",
    "    fpr[i], tpr[i], _ = roc_curve(tag_true[:, i], tags_pred_proba[:, i])\n",
    "    roc_auc[i] = roc_auc_score(tag_true[:, i], tags_pred_proba[:, i])\n",
    "\n",
    "    plt.plot(fpr[i], tpr[i], color=color, lw=2, label=f'{all_tags[i]} (area = {roc_auc[i]:.2f})')\n",
    "\n",
    "plt.plot([0, 1], [0, 1], color='gray', lw=2, linestyle='--')\n",
    "plt.xlabel('False Positive Rate', fontsize=14)\n",
    "plt.ylabel('True Positive Rate', fontsize=14)\n",
    "plt.title('Receiver Operating Characteristic (ROC)', fontsize=16)\n",
    "plt.legend(loc='upper left', bbox_to_anchor=(1, 1), fontsize=12)\n",
    "plt.grid(True)\n",
    "plt.tight_layout()\n",
    "plt.show()\n"
   ]
  },
  {
   "cell_type": "code",
   "execution_count": null,
   "id": "d179674d-842e-4d75-8ed3-0f118178ef47",
   "metadata": {},
   "outputs": [],
   "source": [
    "model.eval()\n",
    "tag_head.eval()\n",
    "\n",
    "with torch.no_grad():\n",
    "    thresholds = [0.001] + [i * 0.01 for i in range(1, 101)]\n",
    "    tags_true_train = []\n",
    "    tags_pred_train = defaultdict(list)\n",
    "    tags_pred_proba_train = []\n",
    "\n",
    "    for batch in tqdm(train_dataloader):\n",
    "        input_ids, attention_mask, tags_labels = batch\n",
    "\n",
    "        input_ids = input_ids.to(device)\n",
    "        attention_mask = attention_mask.to(device)\n",
    "        tags_labels = tags_labels.to(device)\n",
    "\n",
    "        outputs = model(input_ids=input_ids, attention_mask=attention_mask)\n",
    "        pooled_output = outputs.pooler_output\n",
    "        tags_output = tag_head(pooled_output)\n",
    "\n",
    "        tags_true_train.extend([torch.nonzero(row).flatten().tolist() for row in tags_labels.detach().cpu().clone()])\n",
    "        tags_pred_proba_train.extend(tags_output.detach().cpu().clone().tolist())\n",
    "\n",
    "        for threshold in thresholds:\n",
    "            tags_pred_train[threshold].extend([(row >= threshold).nonzero().flatten().tolist() for row in tags_output.detach().cpu().clone()])\n",
    "\n",
    "    tag_true_train = []\n",
    "    for index_list in tags_true_train:\n",
    "        result_true = [0] * len(all_tags)\n",
    "        for index in index_list:\n",
    "            result_true[index] = 1\n",
    "        tag_true_train.append(result_true)\n",
    "\n",
    "    tag_true_train = np.array(tag_true_train)\n",
    "    tags_pred_proba_train = np.array(tags_pred_proba_train)\n",
    "\n",
    "    optimal_threshold = 0\n",
    "    max_f1_score = 0\n",
    "    best_precision = 0\n",
    "    best_recall = 0\n",
    "    best_accuracy = 0\n",
    "\n",
    "    for threshold in thresholds:\n",
    "        tag_pred_train = []\n",
    "        for index_list in tags_pred_train[threshold]:\n",
    "            result_pred = [0] * len(all_tags)\n",
    "            for index in index_list:\n",
    "                result_pred[index] = 1\n",
    "            tag_pred_train.append(result_pred)\n",
    "\n",
    "        precision = precision_score(tag_true_train, tag_pred_train, average='macro', zero_division=0)\n",
    "        recall = recall_score(tag_true_train, tag_pred_train, average='macro', zero_division=0)\n",
    "        f1 = f1_score(tag_true_train, tag_pred_train, average='macro', zero_division=0)\n",
    "        accuracy = accuracy_score(tag_true_train, tag_pred_train)\n",
    "\n",
    "        if max_f1_score < f1:\n",
    "            optimal_threshold = threshold\n",
    "            max_f1_score = f1\n",
    "            best_precision = precision\n",
    "            best_recall = recall\n",
    "            best_accuracy = accuracy\n",
    "\n",
    "    print(f\"Optimal Threshold: {optimal_threshold}\")\n",
    "    print(f\"Max F1 Score: {max_f1_score}\")\n",
    "    print(f\"Best Precision: {best_precision}\")\n",
    "    print(f\"Best Recall: {best_recall}\")\n",
    "    print(f\"Best Accuracy: {best_accuracy}\")\n",
    "\n",
    "# ROC Curve Calculation and Plotting for Training Set\n",
    "train_fpr = dict()\n",
    "train_tpr = dict()\n",
    "train_roc_auc = dict()\n",
    "\n",
    "colors = plt.cm.nipy_spectral(np.linspace(0, 1, len(all_tags)))\n",
    "\n",
    "plt.figure(figsize=(20, 15))\n",
    "\n",
    "for i, color in enumerate(colors):\n",
    "    train_fpr[i], train_tpr[i], _ = roc_curve(tag_true_train[:, i], tags_pred_proba_train[:, i])\n",
    "    train_roc_auc[i] = roc_auc_score(tag_true_train[:, i], tags_pred_proba_train[:, i])\n",
    "\n",
    "    plt.plot(train_fpr[i], train_tpr[i], color=color, lw=2, label=f'{all_tags[i]} (area = {train_roc_auc[i]:.2f})')\n",
    "\n",
    "plt.plot([0, 1], [0, 1], color='gray', lw=2, linestyle='--')\n",
    "plt.xlabel('False Positive Rate', fontsize=14)\n",
    "plt.ylabel('True Positive Rate', fontsize=14)\n",
    "plt.title('Receiver Operating Characteristic (Train ROC)', fontsize=16)\n",
    "plt.legend(loc='upper left', bbox_to_anchor=(1, 1), fontsize=12)\n",
    "plt.grid(True)\n",
    "plt.tight_layout()\n",
    "plt.show()"
   ]
  }
 ],
 "metadata": {
  "kernelspec": {
   "display_name": "py_torch",
   "language": "python",
   "name": "py_torch"
  },
  "language_info": {
   "codemirror_mode": {
    "name": "ipython",
    "version": 3
   },
   "file_extension": ".py",
   "mimetype": "text/x-python",
   "name": "python",
   "nbconvert_exporter": "python",
   "pygments_lexer": "ipython3",
   "version": "3.11.9"
  }
 },
 "nbformat": 4,
 "nbformat_minor": 5
}
